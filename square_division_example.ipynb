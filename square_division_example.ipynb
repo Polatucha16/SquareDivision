{
 "cells": [
  {
   "cell_type": "code",
   "execution_count": null,
   "metadata": {},
   "outputs": [],
   "source": [
    "import numpy as np\n",
    "from SquareDivision.src.rectangle_class import Rectangulation\n",
    "from SquareDivision.src.distributions import FromFunction, BetweenFunctions, tepui, surface_perp_to\n",
    "\n",
    "rects = Rectangulation(config={\"seed\": 12345378})\n",
    "\n",
    "tepui_kwargs_width = {\n",
    "    'top' : 0.3, \n",
    "    'bottom' : 0.02, \n",
    "    'slope' : 3, \n",
    "    'vertex' : 0.5, \n",
    "    'pts' : np.array([[0.25, 0.25],[0.75, 0.75]])\n",
    "    }\n",
    "tepui_kwargs_height = {\n",
    "    'top' : 0.3, \n",
    "    'bottom' : 0.02, \n",
    "    'slope' : 3, \n",
    "    'vertex' : 0.5, \n",
    "    'pts' : np.array([[0.75, 0.25],[0.25, 0.75]])\n",
    "    }\n",
    "\n",
    "width_0 = lambda mid_pt: tepui(mid_pt, **tepui_kwargs_width)\n",
    "width_1 = width_0\n",
    "height_0 = lambda mid_pt: tepui(mid_pt, **tepui_kwargs_height)\n",
    "height_1 = height_0\n",
    "\n",
    "\n",
    "rects.sample_rectangles(\n",
    "    num=200, \n",
    "    widths_strategy = BetweenFunctions(func_0=width_0, func_1=width_1, rng=rects.rng), \n",
    "    heights_strategy= BetweenFunctions(func_0=height_0, func_1=height_1, rng=rects.rng), \n",
    ")\n",
    "rects.perform()\n",
    "rects.report(tol=0.01, digits=4, limit_list=3)\n",
    "rects.draw(disjoint=True, disjoint_nums=True, inflated=True, inflated_nums=False, closed=True, closed_nums=False)"
   ]
  },
  {
   "cell_type": "code",
   "execution_count": 9,
   "metadata": {},
   "outputs": [
    {
     "name": "stdout",
     "output_type": "stream",
     "text": [
      "8\n"
     ]
    },
    {
     "data": {
      "text/plain": [
       "True"
      ]
     },
     "execution_count": 9,
     "metadata": {},
     "output_type": "execute_result"
    }
   ],
   "source": [
    "areas = rects.closed[:,2] * rects.closed[:,3]\n",
    "print(np.argmin(areas))\n",
    "np.isclose((rects.closed[:,2] * rects.closed[:,3]).sum(), 1)"
   ]
  },
  {
   "cell_type": "markdown",
   "metadata": {},
   "source": [
    "### graph f : (0, 1)^2 -> R"
   ]
  },
  {
   "cell_type": "code",
   "execution_count": null,
   "metadata": {},
   "outputs": [],
   "source": [
    "import numpy as np\n",
    "from SquareDivision.src.distributions import surface_perp_to, tepui\n",
    "from SquareDivision.draw.draw import draw_func\n",
    "surface_perp_to_kwargs = {'vect' : np.array([0, -1, 5]), 'val_at_0' : 0.005}\n",
    "tepui_kwargs = {\n",
    "    'top' : 0.3, \n",
    "    'bottom' : 0.05, \n",
    "    'slope' : 3, \n",
    "    'vertex' : 0.5, \n",
    "    'pts' : np.array([[0.75, 0.25],[0.25, 0.75]]) #[0.75, 0.25],[0.25, 0.75]\n",
    "    }\n",
    "# draw_func(surface_perp_to, func_kwargs = surface_perp_to_kwargs )\n",
    "draw_func(tepui, func_kwargs = tepui_kwargs )"
   ]
  },
  {
   "cell_type": "code",
   "execution_count": 14,
   "metadata": {},
   "outputs": [],
   "source": [
    "from SquareDivision.morph.inflate_strategy import MaxHomThenMaxPushFromOrder\n",
    "strategy = MaxHomThenMaxPushFromOrder()\n",
    "# rects.disjoint = strategy.inflate(rects.disjoint)\n",
    "rects.draw(disjoint=True, inflated=True, inflated_nums=True, closed=True, closed_nums=False)"
   ]
  },
  {
   "cell_type": "code",
   "execution_count": null,
   "metadata": {},
   "outputs": [],
   "source": [
    "rects.draw_contact_graph(1)"
   ]
  }
 ],
 "metadata": {
  "kernelspec": {
   "display_name": "ray310",
   "language": "python",
   "name": "python3"
  },
  "language_info": {
   "codemirror_mode": {
    "name": "ipython",
    "version": 3
   },
   "file_extension": ".py",
   "mimetype": "text/x-python",
   "name": "python",
   "nbconvert_exporter": "python",
   "pygments_lexer": "ipython3",
   "version": "3.10.12"
  }
 },
 "nbformat": 4,
 "nbformat_minor": 2
}
