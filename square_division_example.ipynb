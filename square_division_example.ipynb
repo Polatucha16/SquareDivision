{
 "cells": [
  {
   "cell_type": "code",
   "execution_count": null,
   "metadata": {},
   "outputs": [],
   "source": [
    "import numpy as np\n",
    "from SquareDivision.src.rectangle_class import Rectangulation\n",
    "from SquareDivision.src.distributions import FromFunction, BetweenFunctions, tepui, surface_perp_to\n",
    "\n",
    "rects = Rectangulation(config={\"seed\": 123456})\n",
    "\n",
    "\n",
    "\n",
    "width_0 = lambda mid_pt: surface_perp_to(mid_pt, vect = np.array([0, -1,  5]), val_at_0 = 0.015)\n",
    "width_1 = lambda mid_pt: surface_perp_to(mid_pt, vect = np.array([0, -2, 10]), val_at_0 = 0.020)\n",
    "# width_1 = lambda mid_pt: tepui(mid_pt, top=0.6, bottom=0.01, slope=2.5, vertex=0.8, pts=np.array([[0.5, 0.5]]))\n",
    "\n",
    "height_0 = lambda mid_pt: surface_perp_to(mid_pt, vect = np.array([-1, 0,  5]), val_at_0 = 0.015)\n",
    "height_1 = lambda mid_pt: surface_perp_to(mid_pt, vect = np.array([-2, 0, 10]), val_at_0 = 0.020)\n",
    "# height_1 = lambda mid_pt: tepui(mid_pt, top=0.5, bottom=0.01, slope=2.5, vertex=0.8, pts=np.array([[0.5, 0.5]]))\n",
    "\n",
    "\n",
    "\n",
    "rects.sample_rectangles(\n",
    "    num=500, \n",
    "    widths_strategy = BetweenFunctions(func_0=width_0, func_1=width_1, rng=rects.rng), \n",
    "    heights_strategy= BetweenFunctions(func_0=height_0, func_1=height_1, rng=rects.rng), \n",
    ")\n",
    "rects.find_disjoint_family()\n",
    "rects.clinch()\n",
    "rects.close_holes()\n",
    "\n",
    "rects.report(tol=0.01, digits=4, limit_list=3)\n",
    "rects.draw(disjoint=True, inflated=True, inflated_nums=True, closed=True, closed_nums=False)"
   ]
  },
  {
   "cell_type": "markdown",
   "metadata": {},
   "source": [
    "### graph f : (0, 1)^2 -> R"
   ]
  },
  {
   "cell_type": "code",
   "execution_count": null,
   "metadata": {},
   "outputs": [],
   "source": [
    "import numpy as np\n",
    "from SquareDivision.src.distributions import surface_perp_to, tepui\n",
    "from SquareDivision.draw.draw import draw_func\n",
    "surface_perp_to_kwargs = {'vect' : np.array([0, -1, 5]), 'val_at_0' : 0.005}\n",
    "tepui_kwargs = {\n",
    "    'top' : 0.4, \n",
    "    'bottom' : 0.1, \n",
    "    'slope' : 3, \n",
    "    'vertex' : 0.7, \n",
    "    'pts' : np.array([[0.5, 0.5]])\n",
    "    }\n",
    "draw_func(surface_perp_to, func_kwargs = surface_perp_to_kwargs )\n",
    "draw_func(tepui, func_kwargs = tepui_kwargs )"
   ]
  },
  {
   "cell_type": "code",
   "execution_count": 14,
   "metadata": {},
   "outputs": [],
   "source": [
    "from SquareDivision.morph.inflate_strategy import MaxHomThenMaxPushFromOrder\n",
    "strategy = MaxHomThenMaxPushFromOrder()\n",
    "# rects.disjoint = strategy.inflate(rects.disjoint)\n",
    "rects.draw(disjoint=True, inflated=True, inflated_nums=True, closed=True, closed_nums=False)"
   ]
  },
  {
   "cell_type": "code",
   "execution_count": null,
   "metadata": {},
   "outputs": [],
   "source": [
    "rects.draw_contact_graph(1)"
   ]
  },
  {
   "cell_type": "code",
   "execution_count": 12,
   "metadata": {},
   "outputs": [
    {
     "data": {
      "text/plain": [
       "array([ 4,  8, 14], dtype=int64)"
      ]
     },
     "execution_count": 12,
     "metadata": {},
     "output_type": "execute_result"
    }
   ],
   "source": [
    "from SquareDivision.contact_graph.incidence_matrix import idxs_of_touching_rectangles_in_dir\n",
    "idxs_of_touching_rectangles_in_dir(6, rects.clinched_rectangles, 'd')"
   ]
  }
 ],
 "metadata": {
  "kernelspec": {
   "display_name": "ray310",
   "language": "python",
   "name": "python3"
  },
  "language_info": {
   "codemirror_mode": {
    "name": "ipython",
    "version": 3
   },
   "file_extension": ".py",
   "mimetype": "text/x-python",
   "name": "python",
   "nbconvert_exporter": "python",
   "pygments_lexer": "ipython3",
   "version": "3.10.12"
  }
 },
 "nbformat": 4,
 "nbformat_minor": 2
}
