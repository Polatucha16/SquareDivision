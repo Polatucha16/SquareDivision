{
 "cells": [
  {
   "cell_type": "markdown",
   "metadata": {},
   "source": [
    "### RNG and (width, height) distributions"
   ]
  },
  {
   "cell_type": "code",
   "execution_count": 6,
   "metadata": {},
   "outputs": [],
   "source": [
    "import numpy as np\n",
    "from numpy.random._generator import Generator\n",
    "import functools\n",
    "from SquareDivision.src.distributions import x_plus_y_func\n",
    "from SquareDivision.config import config\n",
    "\n",
    "rng:Generator = np.random.default_rng(config['seed'])\n",
    "func = functools.partial(x_plus_y_func, \n",
    "                         min_00=0.025, max_00=0.03,\n",
    "                         min_11=0.2, max_11=0.3,\n",
    "                         rng=rng)"
   ]
  },
  {
   "cell_type": "markdown",
   "metadata": {},
   "source": [
    "### Random rectangulation and inflating to clinch"
   ]
  },
  {
   "cell_type": "code",
   "execution_count": 7,
   "metadata": {},
   "outputs": [],
   "source": [
    "from SquareDivision.src.generators import uniform_pts\n",
    "from SquareDivision.src.dataflow import arg_rect_list, process\n",
    "\n",
    "# rng:Generator = np.random.default_rng(config['seed'])\n",
    "arr = arg_rect_list(10, uniform_pts, func, rng=rng)\n",
    "arr, pushed_arr = process(arr)"
   ]
  },
  {
   "cell_type": "code",
   "execution_count": 8,
   "metadata": {},
   "outputs": [
    {
     "data": {
      "image/png": "[encoded data removed]",
      "text/plain": [
       "<Figure size 1200x600 with 2 Axes>"
      ]
     },
     "metadata": {},
     "output_type": "display_data"
    }
   ],
   "source": [
    "import matplotlib.pyplot as plt\n",
    "from SquareDivision.src.draw import draw_rectangles# , set_settings#, draw_suspended_walls\n",
    "from SquareDivision.src.regions import opposing_walls_in_half_plane_in_dir\n",
    "\n",
    "# suspect, direction = 5, 'u'\n",
    "# which_list, sus_walls = opposing_walls_in_half_plane_in_dir(suspect, arr, direction)\n",
    "# ax = draw_suspended_walls(ax, direction, sus_walls)\n",
    "\n",
    "import matplotlib.pyplot as plt\n",
    "from SquareDivision.src.draw import draw_rectangles\n",
    "\n",
    "fig, axes = plt.subplots(nrows=1, ncols=2, figsize=(12, 6))\n",
    "\n",
    "axes[0] = draw_rectangles(axes[0], arr)\n",
    "axes[1] = draw_rectangles(axes[1], pushed_arr)\n",
    "plt.show()"
   ]
  },
  {
   "cell_type": "markdown",
   "metadata": {},
   "source": [
    "## Projection onto retrangulation without holes"
   ]
  },
  {
   "cell_type": "code",
   "execution_count": 1,
   "metadata": {},
   "outputs": [
    {
     "data": {
      "image/png": "[encoded data removed]",
      "text/plain": [
       "<Figure size 600x600 with 1 Axes>"
      ]
     },
     "metadata": {},
     "output_type": "display_data"
    }
   ],
   "source": [
    "import numpy as np\n",
    "import matplotlib.pyplot as plt\n",
    "from SquareDivision.src.draw import draw_rectangles\n",
    "\n",
    "\n",
    "width, height = np.array([0.2, 0.1]) / 2\n",
    "rect_area = (0.5 - width)*(0.5 + height)\n",
    "arr_with_hole = np.array([\n",
    "    [          0,            0, 0.5 - width, 0.5 + height, (0.5 - width) * (0.5 + height)],\n",
    "    [          0, 0.5 + height, 0.5 + width, 0.5 - height, (0.5 + width) * (0.5 - height)],\n",
    "    [0.5 + width, 0.5 - height, 0.5 - width, 0.5 + height, (0.5 - width) * (0.5 + height)],\n",
    "    [0.5 - width,            0, 0.5 + width, 0.5 - height, (0.5 + width) * (0.5 - height)],\n",
    "])\n",
    "#additional name for future\n",
    "clinched_rectangles = arr_with_hole\n",
    "fig, ax = plt.subplots(figsize=(6, 6))\n",
    "ax = draw_rectangles(ax, arr_with_hole)\n",
    "plt.show()"
   ]
  },
  {
   "cell_type": "code",
   "execution_count": 39,
   "metadata": {},
   "outputs": [
    {
     "data": {
      "text/plain": [
       "array([[0.  , 0.  , 0.4 , 0.55, 0.22],\n",
       "       [0.  , 0.55, 0.6 , 0.45, 0.27],\n",
       "       [0.6 , 0.45, 0.4 , 0.55, 0.22],\n",
       "       [0.4 , 0.  , 0.6 , 0.45, 0.27]])"
      ]
     },
     "execution_count": 39,
     "metadata": {},
     "output_type": "execute_result"
    }
   ],
   "source": [
    "arr_with_hole"
   ]
  },
  {
   "cell_type": "markdown",
   "metadata": {},
   "source": [
    "### condition building on `[x, y, width, height, area]` such that:\n",
    "sum of areas is 1, apropriate sums of height and width are 1, first build matrix `A`"
   ]
  },
  {
   "cell_type": "code",
   "execution_count": 14,
   "metadata": {},
   "outputs": [],
   "source": [
    "east_neighbours = np.array([\n",
    "    [0,0,0,1],\n",
    "    [0,0,1,0],\n",
    "    [0,0,0,0],\n",
    "    [0,0,0,0]\n",
    "])\n",
    "north_neighbours = np.array([\n",
    "    [0,1,0,0],\n",
    "    [0,0,0,0],\n",
    "    [0,0,0,0],\n",
    "    [0,0,1,0]\n",
    "])\n",
    "def build_A_and_rhs(arr, east_neighbours:np.ndarray, axis):\n",
    "    \"\"\" Builds stack matricies for matrix equation (id - A) . X = rhs\n",
    "            -----------------------------------------------------------------------------------------\n",
    "            :   | id_lower   |     |    0       |       |           |           ...             |   :\n",
    "            : ( | id_upper   |  -  |    0       | ).dot(|   Flatten(| x_i, y_i, w_i, h_i, ar_i  |)  :  \n",
    "            :   | id_contact |     | A_contanct |       |           |           ...             |   :\n",
    "            :       | 0 if rect on lower boundary  |                                                :\n",
    "            :   ==  | 1 if rect on upper boundary  |                                                :\n",
    "            :       | 0                            |                                                :\n",
    "            -----------------------------------------------------------------------------------------\n",
    "        The above repre4sents set of equalities:\n",
    "            (id_lower)  :   for those on the left boundary\n",
    "                x_i == 0\n",
    "            (id_upper)  :   for those on the right boundary\n",
    "                x_j + w_j == 1\n",
    "            (id_contact):   for those rects which are upper neighbour of single contact e.g. index k\n",
    "            (A_contanct):   for those rects which are lower neighbour of single contact e.g. index i\n",
    "                x_k = x_i + w_i\n",
    "\n",
    "        \"\"\"\n",
    "    # n - number of rectangles\n",
    "    # m - number of contacts between rectangles \n",
    "    n, m = len(arr), np.sum(east_neighbours)\n",
    "    id_lower   = np.zeros(shape=(5*n, 5*n))\n",
    "    id_upper   = np.zeros(shape=(5*n, 5*n))\n",
    "    id_contact = np.zeros(shape=(m, 5*n))\n",
    "    zeros_of_A = np.zeros(shape=(5*n, 5*n))\n",
    "\n",
    "    A_contanct = np.zeros(shape=(m, 5*n))\n",
    "    rhs = np.zeros(shape=(2*(5*n) + m,))\n",
    "\n",
    "    # first fill id_lower and id_upper for representation of \n",
    "    # x_i == 0 and x_j + w_j == 1 respectively\n",
    "    for rect_num in range(n):\n",
    "        if np.sum(east_neighbours.T[rect_num]) == 0:\n",
    "            # rectangle is not an east neighbour of any other rectangle => it is on lower boundary\n",
    "            id_lower[5*rect_num, 5*rect_num + axis] = 1\n",
    "        if np.sum(east_neighbours[rect_num]) == 0:\n",
    "            # rectangle has no east neighbours => it is on upper boundary\n",
    "            id_upper[5*rect_num, 5*rect_num + axis], id_upper[5*rect_num, 5*rect_num + axis + 2] = 1, 1\n",
    "            rhs[(5*n) + 5*rect_num + axis] = 1\n",
    "    \n",
    "    # now for contacts:\n",
    "    for contact_num, (num_low_neighb, num_hig_neighb) in enumerate(zip(*np.where(east_neighbours > 0))):\n",
    "        id_contact[contact_num, 5*num_low_neighb + axis] = 1\n",
    "        A_contanct[contact_num, 5*num_hig_neighb + axis] = 1\n",
    "        A_contanct[contact_num, 5*num_hig_neighb + axis + 2] = 1\n",
    "    id_stack    = np.r_[id_lower,     id_upper, id_contact]\n",
    "    A_stack     = np.r_[zeros_of_A, zeros_of_A, A_contanct]\n",
    "    return id_stack, A_stack, rhs\n",
    "\n",
    "#sanity check:\n",
    "# id_X_stack, A_X_stack, X_rhs =  build_A_and_rhs(arr_with_hole, east_neighbours, 0)\n",
    "# id_Y_stack, A_Y_stack, Y_rhs =  build_A_and_rhs(arr_with_hole, north_neighbours, 1)\n",
    "# cont_A  = (id_X_stack-A_X_stack) + (id_Y_stack - A_Y_stack)\n",
    "# cont_rhs= X_rhs + Y_rhs"
   ]
  },
  {
   "cell_type": "code",
   "execution_count": 15,
   "metadata": {},
   "outputs": [
    {
     "data": {
      "text/plain": [
       "array([0., 0., 0., 0., 0., 0., 0., 0., 0., 0., 0., 0., 0., 0., 0., 0., 0.,\n",
       "       0., 0., 0., 0., 0., 0., 0., 0., 0., 1., 0., 0., 0., 1., 1., 0., 0.,\n",
       "       0., 1., 0., 0., 0., 0., 0., 0.])"
      ]
     },
     "execution_count": 15,
     "metadata": {},
     "output_type": "execute_result"
    }
   ],
   "source": [
    "id_X_stack, A_X_stack, X_rhs =  build_A_and_rhs(clinched_rectangles, east_neighbours, 0)\n",
    "id_Y_stack, A_Y_stack, Y_rhs =  build_A_and_rhs(clinched_rectangles, north_neighbours, 1)\n",
    "cont_A  = (id_X_stack-A_X_stack) + (id_Y_stack - A_Y_stack)\n",
    "cont_rhs= X_rhs + Y_rhs"
   ]
  },
  {
   "cell_type": "markdown",
   "metadata": {},
   "source": [
    "#### area constraint $\\sum\\limits_{i=1}^{n} \\left| R_i \\right| =1$\n"
   ]
  },
  {
   "cell_type": "code",
   "execution_count": 13,
   "metadata": {},
   "outputs": [
    {
     "data": {
      "text/plain": [
       "array([0, 0, 0, 0, 1, 0, 0, 0, 0, 1, 0, 0, 0, 0, 1, 0, 0, 0, 0, 1])"
      ]
     },
     "execution_count": 13,
     "metadata": {},
     "output_type": "execute_result"
    }
   ],
   "source": [
    "# area sum constraint\n",
    "def build_A_for_area_sum(clinched_rectangles:np.ndarray):\n",
    "    tile = np.array([0, 0, 0, 0, 1])\n",
    "    vect = np.tile(tile, len(clinched_rectangles))\n",
    "    return vect\n",
    "A_for_area = build_A_for_area_sum(arr_with_hole)\n",
    "\n",
    "# A_for_area.dot(arr_with_hole.flatten())\n",
    "# A_for_area"
   ]
  },
  {
   "cell_type": "markdown",
   "metadata": {},
   "source": [
    "#### Nonlinear Constraints w_i * h_i = ar_i"
   ]
  },
  {
   "cell_type": "code",
   "execution_count": 17,
   "metadata": {},
   "outputs": [
    {
     "data": {
      "text/plain": [
       "array([0., 0., 0., 0.])"
      ]
     },
     "execution_count": 17,
     "metadata": {},
     "output_type": "execute_result"
    }
   ],
   "source": [
    "def fun_for_areas(arg: np.ndarray):\n",
    "    array_arg = arg.reshape(-1, 5)\n",
    "    widths, heights, areas = array_arg[:, 2], array_arg[:, 3], array_arg[:, 4]\n",
    "    return (widths * heights) - areas\n",
    "\n",
    "fun_for_areas(arr_with_hole.flatten())"
   ]
  },
  {
   "cell_type": "code",
   "execution_count": 37,
   "metadata": {},
   "outputs": [
    {
     "data": {
      "text/plain": [
       "0.27"
      ]
     },
     "execution_count": 37,
     "metadata": {},
     "output_type": "execute_result"
    }
   ],
   "source": []
  },
  {
   "cell_type": "markdown",
   "metadata": {},
   "source": [
    "#### Linear and non-linear Constraints from `scipy.optimize`"
   ]
  },
  {
   "cell_type": "code",
   "execution_count": 20,
   "metadata": {},
   "outputs": [],
   "source": [
    "# Arguments:\n",
    "\n",
    "# linear conctact constraint aguments\n",
    "id_X_stack, A_X_stack, X_rhs =  build_A_and_rhs(clinched_rectangles, east_neighbours, 0)\n",
    "id_Y_stack, A_Y_stack, Y_rhs =  build_A_and_rhs(clinched_rectangles, north_neighbours, 1)\n",
    "cont_A  = (id_X_stack-A_X_stack) + (id_Y_stack - A_Y_stack)\n",
    "cont_rhs= X_rhs + Y_rhs\n",
    "\n",
    "# linear area sum constraint\n",
    "A_for_area_sum = build_A_for_area_sum(clinched_rectangles)\n",
    "\n",
    "# nonlinear constraint width * height =  area\n",
    "rect_count = len(clinched_rectangles)\n",
    "non_lin_area_rhs = np.zeros(rect_count)"
   ]
  },
  {
   "cell_type": "code",
   "execution_count": 21,
   "metadata": {},
   "outputs": [],
   "source": [
    "from scipy.optimize import LinearConstraint\n",
    "from scipy.optimize import NonlinearConstraint\n",
    "\n",
    "contact_constr = LinearConstraint( A=cont_A, lb=cont_rhs, ub=cont_rhs)\n",
    "area____constr = LinearConstraint( A=A_for_area_sum, lb=1, ub=1)\n",
    "nl_area_constr = NonlinearConstraint(fun=fun_for_areas, lb=non_lin_area_rhs, ub=non_lin_area_rhs)\n",
    "cons = [contact_constr, area____constr, nl_area_constr]"
   ]
  },
  {
   "cell_type": "markdown",
   "metadata": {},
   "source": [
    "#### distance function"
   ]
  },
  {
   "cell_type": "code",
   "execution_count": 22,
   "metadata": {},
   "outputs": [
    {
     "data": {
      "text/plain": [
       "1.8214280112043957"
      ]
     },
     "execution_count": 22,
     "metadata": {},
     "output_type": "execute_result"
    }
   ],
   "source": [
    "from numpy import linalg as LA\n",
    "\n",
    "def dist_fun(arg:np.ndarray, rectangles:np.ndarray=clinched_rectangles):\n",
    "    arr = arg.reshape(-1,5)\n",
    "    dist = LA.norm(arr-rectangles)\n",
    "    return dist\n",
    "\n",
    "dist_fun(np.array([0,0,0,0,0,0,0,0,0,0,0,0,0,0,0,0,0,0,0,0]))"
   ]
  },
  {
   "cell_type": "markdown",
   "metadata": {},
   "source": [
    "#### `x0` the initial guess\n",
    "In order to fullfil complicated contact conditions we : \\\n",
    "1) Find rectangle such that it has (x,y) = (0,0) this rectacnge and therefore that row\\\n",
    "will become the row: `[0, 0, 1, 1, 1]`\n",
    "2) Rectangles on the most left (i.e. x=0) become: `[0, 1, 1, 0, 0]`\n",
    "3) Rectangles on the bottom (i.e. y = 0) become: `[1, 0, 0, 1, 0]`\n",
    "4) All other are squished to a point and become: `[1, 1, 0, 0, 0]`"
   ]
  },
  {
   "cell_type": "code",
   "execution_count": 51,
   "metadata": {},
   "outputs": [
    {
     "name": "stdout",
     "output_type": "stream",
     "text": [
      "[[0.   0.   0.4  0.55 0.22]\n",
      " [0.   0.55 0.6  0.45 0.27]\n",
      " [0.6  0.45 0.4  0.55 0.22]\n",
      " [0.4  0.   0.6  0.45 0.27]]\n"
     ]
    },
    {
     "data": {
      "text/plain": [
       "array([[0., 0., 1., 1., 1.],\n",
       "       [0., 1., 1., 0., 0.],\n",
       "       [1., 1., 0., 0., 0.],\n",
       "       [1., 0., 0., 1., 0.]])"
      ]
     },
     "execution_count": 51,
     "metadata": {},
     "output_type": "execute_result"
    }
   ],
   "source": [
    "def contact_universal_x0(clinched_rectangles:np.ndarray):\n",
    "    x0=np.zeros(shape=clinched_rectangles.shape)\n",
    "    for num, row in enumerate(clinched_rectangles):\n",
    "        if np.isclose(row[0], 0) and np.isclose(row[1], 0):\n",
    "            x0[num] = np.array([0, 0, 1, 1, 1])\n",
    "            continue\n",
    "        elif np.isclose(row[0], 0) and (not np.isclose(row[1], 0)):\n",
    "            x0[num] = np.array([0, 1, 1, 0, 0])\n",
    "            continue\n",
    "        elif (not np.isclose(row[0], 0)) and np.isclose(row[1], 0):\n",
    "            x0[num] = np.array([1, 0, 0, 1, 0])\n",
    "            continue\n",
    "        else:\n",
    "            x0[num] = np.array([1, 1, 0, 0, 0])\n",
    "    return x0\n",
    "contact_universal_x0(clinched_rectangles)"
   ]
  },
  {
   "cell_type": "code",
   "execution_count": null,
   "metadata": {},
   "outputs": [],
   "source": [
    "# # one rectangle (0,1),(0,1) the rest is squished to the point (1,1)\n",
    "# def build_x0(clinched_rectangles:np.ndarray):\n",
    "#     x0 = np.zeros(shape=clinched_rectangles.shape)\n",
    "#     x0[0] = np.array([0,0,1,1,1])\n",
    "#     return x0.flatten()\n",
    "# # build_x0(arr_with_hole)\n",
    "# def x0_cross_ab(a:float, b:float):\n",
    "#     x0 = np.array([\n",
    "#         [0, 0, a, b,a * b],\n",
    "#         [a, 0, 1-a, b,(1-a)* b],\n",
    "#         [0, b, a, 1-b,a*(1-b)],\n",
    "#         [a, b, 1-a, 1-b,(1-a)*(1-b)],\n",
    "#     ])\n",
    "#     return x0.flatten()"
   ]
  },
  {
   "cell_type": "markdown",
   "metadata": {},
   "source": [
    "#### bounds"
   ]
  },
  {
   "cell_type": "code",
   "execution_count": 63,
   "metadata": {},
   "outputs": [],
   "source": [
    "def bounds_from_clinched(clinched_rectangles:np.ndarray):\n",
    "    n, m = clinched_rectangles.shape\n",
    "    lb = np.zeros(shape= n * 5)\n",
    "    ub = np.ones(shape= n * 5)\n",
    "    for num, row in enumerate(clinched_rectangles):\n",
    "        idx = 5 * num\n",
    "        if np.isclose(row[0], 0) and np.isclose(row[1], 0): \n",
    "            print(\"yup i'm here\")\n",
    "            lb[idx], ub[idx], lb[idx+1], ub[idx+1] = 0, 0, 0, 0\n",
    "            continue # keep (0,0) corner\n",
    "        elif np.isclose(row[0], 0) and (not np.isclose(row[1], 0)):\n",
    "            lb[idx], ub[idx] = 0, 0 \n",
    "            continue # keep-left\n",
    "        elif (not np.isclose(row[0], 0)) and np.isclose(row[1], 0):\n",
    "            lb[idx+1], ub[idx+1] = 0, 0\n",
    "            continue # keep-bottom\n",
    "        else:\n",
    "            continue\n",
    "    return lb, ub\n",
    "        "
   ]
  },
  {
   "cell_type": "code",
   "execution_count": 64,
   "metadata": {},
   "outputs": [
    {
     "name": "stdout",
     "output_type": "stream",
     "text": [
      "yup i'm here\n"
     ]
    }
   ],
   "source": [
    "from scipy.optimize import Bounds\n",
    "lb, ub = bounds_from_clinched(clinched_rectangles)\n",
    "bounds = Bounds(lb=lb, ub=ub)"
   ]
  },
  {
   "cell_type": "code",
   "execution_count": 61,
   "metadata": {},
   "outputs": [
    {
     "name": "stderr",
     "output_type": "stream",
     "text": [
      "d:\\Users\\jg255\\anaconda3\\envs\\ray310\\lib\\site-packages\\scipy\\optimize\\_trustregion_constr\\projections.py:181: UserWarning: Singular Jacobian matrix. Using SVD decomposition to perform the factorizations.\n",
      "  warn('Singular Jacobian matrix. Using SVD decomposition to ' +\n"
     ]
    }
   ],
   "source": [
    "from scipy.optimize import minimize\n",
    "# x0 = build_x0(arr_with_hole)\n",
    "# x0 = x0_cross_ab(0.2,0.3)\n",
    "x0 = contact_universal_x0(clinched_rectangles).flatten()\n",
    "sol = minimize(dist_fun, x0, method='trust-constr', bounds=bounds, constraints=cons)"
   ]
  },
  {
   "cell_type": "code",
   "execution_count": 62,
   "metadata": {},
   "outputs": [
    {
     "data": {
      "text/plain": [
       "array([[ 1.00000000e-01,  1.00000000e-01,  9.95686494e-01,\n",
       "         3.69321281e-01,  3.67728211e-01],\n",
       "       [ 1.66666667e-01, -1.00000000e-01,  8.11746878e-08,\n",
       "        -1.00000000e-01, -3.33362255e-10],\n",
       "       [ 3.39848162e-01,  2.14511201e-01,  7.90815549e-02,\n",
       "         3.32257528e-02,  2.62755121e-03],\n",
       "       [ 1.28602851e-03,  1.66666667e-01,  6.98713972e-01,\n",
       "         9.01147342e-01,  6.29644239e-01]])"
      ]
     },
     "execution_count": 62,
     "metadata": {},
     "output_type": "execute_result"
    }
   ],
   "source": [
    "sol.x.reshape(-1,5)"
   ]
  },
  {
   "cell_type": "code",
   "execution_count": 67,
   "metadata": {},
   "outputs": [
    {
     "data": {
      "image/png": "[encoded data removed]",
      "text/plain": [
       "<Figure size 600x600 with 1 Axes>"
      ]
     },
     "metadata": {},
     "output_type": "display_data"
    }
   ],
   "source": [
    "rects_sol = sol.x.reshape(-1,5)\n",
    "fig, ax = plt.subplots(figsize=(6, 6))\n",
    "ax = draw_rectangles(ax, rects_sol)\n",
    "# ax = draw_rectangles(ax, clinched_rectangles)\n",
    "plt.show()"
   ]
  },
  {
   "cell_type": "code",
   "execution_count": 65,
   "metadata": {},
   "outputs": [
    {
     "data": {
      "text/plain": [
       "array([0., 0., 1., 1., 1., 0., 1., 1., 0., 0., 1., 1., 0., 0., 0., 1., 0.,\n",
       "       0., 1., 0.])"
      ]
     },
     "execution_count": 65,
     "metadata": {},
     "output_type": "execute_result"
    }
   ],
   "source": [
    "contact_universal_x0(clinched_rectangles).flatten() "
   ]
  },
  {
   "cell_type": "code",
   "execution_count": 69,
   "metadata": {},
   "outputs": [
    {
     "data": {
      "text/plain": [
       "1.000000000686592"
      ]
     },
     "execution_count": 69,
     "metadata": {},
     "output_type": "execute_result"
    }
   ],
   "source": []
  }
 ],
 "metadata": {
  "kernelspec": {
   "display_name": "ray310",
   "language": "python",
   "name": "python3"
  },
  "language_info": {
   "codemirror_mode": {
    "name": "ipython",
    "version": 3
   },
   "file_extension": ".py",
   "mimetype": "text/x-python",
   "name": "python",
   "nbconvert_exporter": "python",
   "pygments_lexer": "ipython3",
   "version": "3.10.12"
  }
 },
 "nbformat": 4,
 "nbformat_minor": 2
}
