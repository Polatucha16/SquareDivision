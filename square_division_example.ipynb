{
 "cells": [
  {
   "cell_type": "markdown",
   "metadata": {},
   "source": [
    "### RNG and (width, height) distributions"
   ]
  },
  {
   "cell_type": "code",
   "execution_count": 6,
   "metadata": {},
   "outputs": [],
   "source": [
    "import numpy as np\n",
    "from numpy.random._generator import Generator\n",
    "import functools\n",
    "from SquareDivision.src.distributions import x_plus_y_func\n",
    "from SquareDivision.config import config\n",
    "\n",
    "rng:Generator = np.random.default_rng(config['seed'])\n",
    "func = functools.partial(x_plus_y_func, \n",
    "                         min_00=0.025, max_00=0.03,\n",
    "                         min_11=0.2, max_11=0.3,\n",
    "                         rng=rng)"
   ]
  },
  {
   "cell_type": "markdown",
   "metadata": {},
   "source": [
    "### Random rectangulation and inflating to clinch"
   ]
  },
  {
   "cell_type": "code",
   "execution_count": 7,
   "metadata": {},
   "outputs": [],
   "source": [
    "from SquareDivision.src.generators import uniform_pts\n",
    "from SquareDivision.src.dataflow import arg_rect_list, process\n",
    "\n",
    "# rng:Generator = np.random.default_rng(config['seed'])\n",
    "arr = arg_rect_list(10, uniform_pts, func, rng=rng)\n",
    "arr, pushed_arr = process(arr)"
   ]
  },
  {
   "cell_type": "code",
   "execution_count": 8,
   "metadata": {},
   "outputs": [
    {
     "data": {
      "image/png": "[encoded data removed]",
      "text/plain": [
       "<Figure size 1200x600 with 2 Axes>"
      ]
     },
     "metadata": {},
     "output_type": "display_data"
    }
   ],
   "source": [
    "import matplotlib.pyplot as plt\n",
    "from SquareDivision.src.draw import draw_rectangles# , set_settings#, draw_suspended_walls\n",
    "from SquareDivision.src.regions import opposing_walls_in_half_plane_in_dir\n",
    "\n",
    "suspect, direction = 5, 'u'\n",
    "which_list, sus_walls = opposing_walls_in_half_plane_in_dir(suspect, arr, direction)\n",
    "# ax = draw_suspended_walls(ax, direction, sus_walls)\n",
    "\n",
    "import matplotlib.pyplot as plt\n",
    "from SquareDivision.src.draw import draw_rectangles\n",
    "\n",
    "fig, axes = plt.subplots(nrows=1, ncols=2, figsize=(12, 6))\n",
    "\n",
    "axes[0] = draw_rectangles(axes[0], arr)\n",
    "axes[1] = draw_rectangles(axes[1], pushed_arr)\n",
    "plt.show()"
   ]
  },
  {
   "cell_type": "markdown",
   "metadata": {},
   "source": [
    "## Projection onto retrangulation without holes"
   ]
  },
  {
   "cell_type": "code",
   "execution_count": 9,
   "metadata": {},
   "outputs": [
    {
     "data": {
      "image/png": "[encoded data removed]",
      "text/plain": [
       "<Figure size 600x600 with 1 Axes>"
      ]
     },
     "metadata": {},
     "output_type": "display_data"
    }
   ],
   "source": [
    "import numpy as np\n",
    "import matplotlib.pyplot as plt\n",
    "from SquareDivision.src.draw import draw_rectangles\n",
    "\n",
    "\n",
    "width, height = np.array([0.2, 0.1]) / 2\n",
    "rect_area = (0.5 - width)*(0.5 + height)\n",
    "arr_with_hole = np.array([\n",
    "    [          0,            0, 0.5 - width, 0.5 + height, rect_area],\n",
    "    [          0, 0.5 + height, 0.5 + width, 0.5 - height, rect_area],\n",
    "    [0.5 + width, 0.5 - height, 0.5 - width, 0.5 + height, rect_area],\n",
    "    [0.5 - width,            0, 0.5 + width, 0.5 - height, rect_area],\n",
    "])\n",
    "\n",
    "fig, ax = plt.subplots(figsize=(6, 6))\n",
    "ax = draw_rectangles(ax, arr_with_hole)\n",
    "plt.show()"
   ]
  },
  {
   "cell_type": "markdown",
   "metadata": {},
   "source": [
    "### condition building on `[x, y, width, height, area]` such that:\n",
    "sum of areas is 1, apropriate sums of height and width are 1, first build matrix `A`"
   ]
  },
  {
   "cell_type": "code",
   "execution_count": 2,
   "metadata": {},
   "outputs": [],
   "source": [
    "east_neighbours = np.array([\n",
    "    [0,0,0,1],\n",
    "    [0,0,1,0],\n",
    "    [0,0,0,0],\n",
    "    [0,0,0,0]\n",
    "])\n",
    "north_neighbours = np.array([\n",
    "    [0,1,0,0],\n",
    "    [0,0,0,0],\n",
    "    [0,0,0,0],\n",
    "    [0,0,1,0]\n",
    "])\n",
    "def build_A_and_rhs(arr, east_neighbours:np.ndarray):\n",
    "    \"\"\" Builds stack matricies for matrix equation (id - A) . X = rhs\n",
    "            -----------------------------------------------------------------------------------------\n",
    "            :   | id_lower   |     |    0       |       |           |           ...             |   :\n",
    "            : ( | id_upper   |  -  |    0       | ).dot(|   Flatten(| x_i, y_i, w_i, h_i, ar_i  |)  :  \n",
    "            :   | id_contact |     | A_contanct |       |           |           ...             |   :\n",
    "            :       | 0 if rect on lower boundary  |                                                :\n",
    "            :   ==  | 1 if rect on upper boundary  |                                                :\n",
    "            :       | 0                            |                                                :\n",
    "            -----------------------------------------------------------------------------------------\n",
    "        The above repre4sents set oe equalities:\n",
    "            (id_lower)  :   for those on the left boundary\n",
    "                x_i == 0\n",
    "            (id_upper)  :   for those on the right boundary\n",
    "                x_j + w_j == 1\n",
    "            (id_contact):   for those rects which are upper neighbour of single contact e.g. index k\n",
    "            (A_contanct):   for those rects which are lower neighbour of single contact e.g. index i\n",
    "                x_k = x_i + w_i\n",
    "\n",
    "        \"\"\"\n",
    "    n, m = len(arr), np.sum(east_neighbours)\n",
    "    id_lower   = np.zeros(shape=(5*n, 5*n))\n",
    "    id_upper   = np.zeros(shape=(5*n, 5*n))\n",
    "    id_contact = np.zeros(shape=(m, 5*n))\n",
    "    zeros_of_A = np.zeros(shape=(5*n, 5*n))\n",
    "\n",
    "    A_contanct = np.zeros(shape=(m, 5*n))\n",
    "    rhs = np.zeros(shape=(2*(5*n) + m,))\n",
    "\n",
    "    # first fill id_lower and id_upper for representation of \n",
    "    # x_i == 0 and x_j + w_j == 1 respectively\n",
    "    for rect_num in range(n):\n",
    "        if np.sum(east_neighbours.T[rect_num]) == 0:\n",
    "            # rectangle is not an east neighbour of any other rectangle => it is on lower boundary\n",
    "            id_lower[5*rect_num, 5*rect_num + 0] = 1\n",
    "        if np.sum(east_neighbours[rect_num]) == 0:\n",
    "            # rectangle has no east neighbours => it is on upper boundary\n",
    "            id_upper[5*rect_num, 5*rect_num + 0], id_upper[5*rect_num, 5*rect_num + 0 + 2] = 1, 1\n",
    "            rhs[(5*n) + 5*rect_num + 0] = 1\n",
    "    \n",
    "    # now for contacts:\n",
    "    for contact_num, (num_low_neighb, num_hig_neighb) in enumerate(zip(*np.where(east_neighbours > 0))):\n",
    "        id_contact[contact_num, 5*num_low_neighb + 0] = 1\n",
    "        A_contanct[contact_num, 5*num_hig_neighb + 0] = 1\n",
    "        A_contanct[contact_num, 5*num_hig_neighb + 2] = 1\n",
    "    id_stack    = np.r_[id_lower,     id_upper, id_contact]\n",
    "    A_stack     = np.r_[zeros_of_A, zeros_of_A, A_contanct]\n",
    "    return id_stack, A_stack, rhs\n"
   ]
  },
  {
   "cell_type": "code",
   "execution_count": 3,
   "metadata": {},
   "outputs": [
    {
     "name": "stdout",
     "output_type": "stream",
     "text": [
      "(42, 20)\n"
     ]
    },
    {
     "data": {
      "text/plain": [
       "(42,)"
      ]
     },
     "execution_count": 3,
     "metadata": {},
     "output_type": "execute_result"
    }
   ],
   "source": [
    "id_stack, A_stack, rhs =  build_A_and_rhs(arr_with_hole, east_neighbours)\n",
    "print(id_stack.shape)\n",
    "rhs.shape"
   ]
  }
 ],
 "metadata": {
  "kernelspec": {
   "display_name": "ray310",
   "language": "python",
   "name": "python3"
  },
  "language_info": {
   "codemirror_mode": {
    "name": "ipython",
    "version": 3
   },
   "file_extension": ".py",
   "mimetype": "text/x-python",
   "name": "python",
   "nbconvert_exporter": "python",
   "pygments_lexer": "ipython3",
   "version": "3.10.12"
  }
 },
 "nbformat": 4,
 "nbformat_minor": 2
}
