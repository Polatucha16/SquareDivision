{
 "cells": [
  {
   "cell_type": "code",
   "execution_count": 1,
   "metadata": {},
   "outputs": [
    {
     "name": "stdout",
     "output_type": "stream",
     "text": [
      "All rectangles within tolerace\n"
     ]
    },
    {
     "data": {
      "image/png": "[encoded data removed]",
      "text/plain": [
       "<Figure size 1500x500 with 3 Axes>"
      ]
     },
     "metadata": {},
     "output_type": "display_data"
    }
   ],
   "source": [
    "import numpy as np\n",
    "from SquareDivision.src.rectangle_class import Rectangulation\n",
    "from SquareDivision.src.distributions import FromFunction, BetweenFunctions, tepui, surface_perp_to\n",
    "\n",
    "rects = Rectangulation(config={\"seed\": 123567})\n",
    "\n",
    "\n",
    "width_0 = lambda mid_pt: surface_perp_to(mid_pt, vect = np.array([0, -1, 5]), val_at_0 = 0.005)\n",
    "width_1 = lambda mid_pt: surface_perp_to(mid_pt, vect = np.array([0, -2, 10]), val_at_0 = 0.01)\n",
    "# width_1 = lambda mid_pt: tepui(mid_pt, top=0.6, bottom=0.01, slope=2, vertex=0.8, pts=np.array([[0.5, 0.5]]))\n",
    "\n",
    "height_0 = lambda mid_pt: surface_perp_to(mid_pt, vect = np.array([-1, 0, 5]), val_at_0 = 0.005)\n",
    "height_1 = lambda mid_pt: surface_perp_to(mid_pt, vect = np.array([-2, 0, 10]), val_at_0 = 0.01)\n",
    "# height_1 = lambda mid_pt: tepui(mid_pt, top=0.6, bottom=0.01, slope=2, vertex=0.6, pts=np.array([[0.5, 0.5]]))\n",
    "\n",
    "rects.sample_rectangles(\n",
    "    num=12, \n",
    "    widths_strategy = BetweenFunctions(func_0=width_0, func_1=width_1, rng=rects.rng), \n",
    "    heights_strategy= BetweenFunctions(func_0=height_0, func_1=height_1, rng=rects.rng), \n",
    ")\n",
    "rects.find_disjoint_family()\n",
    "rects.clinch()\n",
    "rects.close_holes()\n",
    "\n",
    "rects.report(tol=0.01, digits=4, limit_list=3)\n",
    "rects.draw(disjoint=True, inflated=True, inflated_nums=True, closed=True, closed_nums=False)"
   ]
  },
  {
   "cell_type": "code",
   "execution_count": 10,
   "metadata": {},
   "outputs": [
    {
     "data": {
      "text/plain": [
       "array([[5.78283373e-01, 5.85345837e-01, 1.40133826e-01, 1.38856471e-01],\n",
       "       [8.60061152e-01, 8.91157579e-01, 1.39938848e-01, 1.08842421e-01],\n",
       "       [3.78441856e-01, 5.79740403e-01, 1.35399225e-01, 9.85443482e-02],\n",
       "       [5.69024789e-01, 3.95796126e-01, 9.85977233e-02, 1.29444437e-01],\n",
       "       [8.98957047e-01, 1.86885913e-01, 6.33884247e-02, 1.93992505e-01],\n",
       "       [0.00000000e+00, 9.79357938e-01, 2.04677416e-01, 2.06420624e-02],\n",
       "       [5.21703116e-01, 1.05262189e-02, 2.18644700e-02, 1.13024337e-01],\n",
       "       [3.17806343e-02, 3.19675028e-01, 7.41742984e-02, 2.23399052e-02],\n",
       "       [1.08726291e-02, 7.81338560e-03, 1.28413388e-02, 1.32416298e-02],\n",
       "       [4.77148731e-02, 2.09652274e-04, 8.35412295e-03, 1.65930209e-02]])"
      ]
     },
     "execution_count": 10,
     "metadata": {},
     "output_type": "execute_result"
    }
   ],
   "source": [
    "rects.arr"
   ]
  },
  {
   "cell_type": "markdown",
   "metadata": {},
   "source": [
    "### graph f : (0, 1)^2 -> R"
   ]
  },
  {
   "cell_type": "code",
   "execution_count": null,
   "metadata": {},
   "outputs": [],
   "source": [
    "import numpy as np\n",
    "from SquareDivision.src.distributions import surface_perp_to, tepui\n",
    "from SquareDivision.draw.draw import draw_func\n",
    "surface_perp_to_kwargs = {'vect' : np.array([0, -1, 5]), 'val_at_0' : 0.005}\n",
    "tepui_kwargs = {\n",
    "    'top' : 0.4, \n",
    "    'bottom' : 0.1, \n",
    "    'slope' : 3, \n",
    "    'vertex' : 0.7, \n",
    "    'pts' : np.array([[0.5, 0.5]])\n",
    "    }\n",
    "draw_func(surface_perp_to, func_kwargs = surface_perp_to_kwargs )\n",
    "draw_func(tepui, func_kwargs = tepui_kwargs )"
   ]
  },
  {
   "cell_type": "code",
   "execution_count": null,
   "metadata": {},
   "outputs": [],
   "source": [
    "rects.draw_contact_graph(1)"
   ]
  },
  {
   "cell_type": "code",
   "execution_count": null,
   "metadata": {},
   "outputs": [],
   "source": [
    "import numpy as np\n",
    "from numpy.random._generator import Generator\n",
    "\n",
    "def call_experiment(distribution, rng:Generator, **kwargs):\n",
    "    return rng.__getattribute__(distribution)(**kwargs)\n",
    "xmin, ymin, xmax, ymax = 0, 0, 1, 1\n",
    "# [xmin, ymin], [xmax, ymax], size=(2, 2)\n",
    "call_experiment('uniform', rects.rng, low=[0, 0], high=[1, 1], size=(2, 2))"
   ]
  },
  {
   "cell_type": "code",
   "execution_count": 20,
   "metadata": {},
   "outputs": [],
   "source": [
    "import numpy as np\n",
    "from SquareDivision.walls.suspended_walls import SuspendedWalls\n",
    "sus_data = np.array([[0.5,0.5,0.65],[0.1,0.1,0.3],[0.5001,0.4,0.7],[0.3,0.2,0.1]])\n",
    "suspended_walls = SuspendedWalls(data=sus_data, direction='vertical')\n",
    "# print(suspended_walls.data)\n",
    "print(suspended_walls.walls_in_half_plane(suspended_wall=np.array([2,0,2]), leq_or_geq='geq'))\n",
    "print(suspended_walls.potential_bariers(np.array([2,0,2]), leq_or_geq='geq'))\n",
    "# suspended_walls.first_barrier_in_wall_push(suspended_wall=np.array([0.01,0.35,0.51]), leq_or_geq='geq')\n",
    "suspended_walls.first_barrier_in_wall_scale([0.01, 0.15,0.15007],'leq',0.005)"
   ]
  },
  {
   "cell_type": "code",
   "execution_count": 20,
   "metadata": {},
   "outputs": [
    {
     "name": "stdout",
     "output_type": "stream",
     "text": [
      "[0.7184172  0.58534584 0.72420231]\n",
      "[1.         0.58534584 0.72420231]\n"
     ]
    }
   ],
   "source": [
    "print(right_walls.data[0])\n",
    "print(left__walls.first_barrier_in_wall_push(right_walls.data[0],'geq'))"
   ]
  },
  {
   "cell_type": "code",
   "execution_count": 5,
   "metadata": {},
   "outputs": [],
   "source": [
    "from SquareDivision.walls.suspended_walls import from_rectangles_family\n",
    "from SquareDivision.morph.inflate_strategy import rectangles_idx_update\n",
    "\n",
    "disjoint_rectangles = rects.arr\n",
    "left__walls = from_rectangles_family(disjoint_rectangles, dir='l')\n",
    "right_walls = from_rectangles_family(disjoint_rectangles, dir='r')\n",
    "down__walls = from_rectangles_family(disjoint_rectangles, dir='d')\n",
    "upper_walls = from_rectangles_family(disjoint_rectangles, dir='u')\n"
   ]
  },
  {
   "cell_type": "code",
   "execution_count": 6,
   "metadata": {},
   "outputs": [],
   "source": [
    "out = rectangles_idx_update(\n",
    "    0,\n",
    "    disjoint_rectangles,\n",
    "    left__walls,\n",
    "    right_walls,\n",
    "    down__walls,\n",
    "    upper_walls)"
   ]
  },
  {
   "cell_type": "code",
   "execution_count": 7,
   "metadata": {},
   "outputs": [
    {
     "data": {
      "text/plain": [
       "array([ True,  True,  True,  True])"
      ]
     },
     "execution_count": 7,
     "metadata": {},
     "output_type": "execute_result"
    }
   ],
   "source": [
    "rects.clinched_rectangles[0] == out[0][0]"
   ]
  }
 ],
 "metadata": {
  "kernelspec": {
   "display_name": "ray310",
   "language": "python",
   "name": "python3"
  },
  "language_info": {
   "codemirror_mode": {
    "name": "ipython",
    "version": 3
   },
   "file_extension": ".py",
   "mimetype": "text/x-python",
   "name": "python",
   "nbconvert_exporter": "python",
   "pygments_lexer": "ipython3",
   "version": "3.10.12"
  }
 },
 "nbformat": 4,
 "nbformat_minor": 2
}
