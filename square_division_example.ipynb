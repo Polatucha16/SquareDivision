{
 "cells": [
  {
   "cell_type": "markdown",
   "metadata": {},
   "source": [
    "### RNG and (width, height) distributions"
   ]
  },
  {
   "cell_type": "code",
   "execution_count": 6,
   "metadata": {},
   "outputs": [],
   "source": [
    "import numpy as np\n",
    "from numpy.random._generator import Generator\n",
    "import functools\n",
    "from SquareDivision.src.distributions import x_plus_y_func\n",
    "from SquareDivision.config import config\n",
    "\n",
    "rng:Generator = np.random.default_rng(config['seed'])\n",
    "func = functools.partial(x_plus_y_func, \n",
    "                         min_00=0.025, max_00=0.03,\n",
    "                         min_11=0.2, max_11=0.3,\n",
    "                         rng=rng)"
   ]
  },
  {
   "cell_type": "markdown",
   "metadata": {},
   "source": [
    "### Random rectangulation and inflating to clinch"
   ]
  },
  {
   "cell_type": "code",
   "execution_count": 7,
   "metadata": {},
   "outputs": [],
   "source": [
    "from SquareDivision.src.generators import uniform_pts\n",
    "from SquareDivision.src.dataflow import arg_rect_list, process\n",
    "\n",
    "# rng:Generator = np.random.default_rng(config['seed'])\n",
    "arr = arg_rect_list(10, uniform_pts, func, rng=rng)\n",
    "arr, pushed_arr = process(arr)"
   ]
  },
  {
   "cell_type": "code",
   "execution_count": 8,
   "metadata": {},
   "outputs": [
    {
     "data": {
      "image/png": "[encoded data removed]",
      "text/plain": [
       "<Figure size 1200x600 with 2 Axes>"
      ]
     },
     "metadata": {},
     "output_type": "display_data"
    }
   ],
   "source": [
    "import matplotlib.pyplot as plt\n",
    "from SquareDivision.draw.draw import draw_rectangles# , set_settings#, draw_suspended_walls\n",
    "from SquareDivision.src.regions import opposing_walls_in_half_plane_in_dir\n",
    "\n",
    "# suspect, direction = 5, 'u'\n",
    "# which_list, sus_walls = opposing_walls_in_half_plane_in_dir(suspect, arr, direction)\n",
    "# ax = draw_suspended_walls(ax, direction, sus_walls)\n",
    "\n",
    "import matplotlib.pyplot as plt\n",
    "from SquareDivision.draw.draw import draw_rectangles\n",
    "\n",
    "fig, axes = plt.subplots(nrows=1, ncols=2, figsize=(12, 6))\n",
    "\n",
    "axes[0] = draw_rectangles(axes[0], arr)\n",
    "axes[1] = draw_rectangles(axes[1], pushed_arr)\n",
    "plt.show()"
   ]
  },
  {
   "cell_type": "markdown",
   "metadata": {},
   "source": [
    "## Projection onto retrangulation without holes"
   ]
  },
  {
   "cell_type": "code",
   "execution_count": 1,
   "metadata": {},
   "outputs": [
    {
     "data": {
      "image/png": "[encoded data removed]",
      "text/plain": [
       "<Figure size 600x600 with 1 Axes>"
      ]
     },
     "metadata": {},
     "output_type": "display_data"
    }
   ],
   "source": [
    "import numpy as np\n",
    "import matplotlib.pyplot as plt\n",
    "from SquareDivision.draw.draw import draw_rectangles\n",
    "\n",
    "\n",
    "width, height = np.array([0.2, 0.1]) / 2\n",
    "rect_area = (0.5 - width)*(0.5 + height)\n",
    "arr_with_hole = np.array([\n",
    "    [          0,            0, 0.5 - width, 0.5 + height, (0.5 - width) * (0.5 + height)],\n",
    "    [          0, 0.5 + height, 0.5 + width, 0.5 - height, (0.5 + width) * (0.5 - height)],\n",
    "    [0.5 + width, 0.5 - height, 0.5 - width, 0.5 + height, (0.5 - width) * (0.5 + height)],\n",
    "    [0.5 - width,            0, 0.5 + width, 0.5 - height, (0.5 + width) * (0.5 - height)],\n",
    "])\n",
    "#additional name for future\n",
    "clinched_rectangles = arr_with_hole\n",
    "fig, ax = plt.subplots(figsize=(6, 6))\n",
    "ax = draw_rectangles(ax, arr_with_hole)\n",
    "plt.show()\n",
    "\n",
    "east_neighbours = np.array([\n",
    "    [0,0,0,1],\n",
    "    [0,0,1,0],\n",
    "    [0,0,0,0],\n",
    "    [0,0,0,0]\n",
    "])\n",
    "north_neighbours = np.array([\n",
    "    [0,1,0,0],\n",
    "    [0,0,0,0],\n",
    "    [0,0,0,0],\n",
    "    [0,0,1,0]\n",
    "])"
   ]
  },
  {
   "cell_type": "code",
   "execution_count": 39,
   "metadata": {},
   "outputs": [
    {
     "data": {
      "text/plain": [
       "array([[0.  , 0.  , 0.4 , 0.55, 0.22],\n",
       "       [0.  , 0.55, 0.6 , 0.45, 0.27],\n",
       "       [0.6 , 0.45, 0.4 , 0.55, 0.22],\n",
       "       [0.4 , 0.  , 0.6 , 0.45, 0.27]])"
      ]
     },
     "execution_count": 39,
     "metadata": {},
     "output_type": "execute_result"
    }
   ],
   "source": [
    "arr_with_hole"
   ]
  },
  {
   "cell_type": "markdown",
   "metadata": {},
   "source": [
    "### condition building on `[x, y, width, height, area]` such that:\n",
    "sum of areas is 1, apropriate sums of height and width are 1, first build matrix `A`"
   ]
  },
  {
   "cell_type": "code",
   "execution_count": 2,
   "metadata": {},
   "outputs": [],
   "source": [
    "east_neighbours = np.array([\n",
    "    [0,0,0,1],\n",
    "    [0,0,1,0],\n",
    "    [0,0,0,0],\n",
    "    [0,0,0,0]\n",
    "])\n",
    "north_neighbours = np.array([\n",
    "    [0,1,0,0],\n",
    "    [0,0,0,0],\n",
    "    [0,0,0,0],\n",
    "    [0,0,1,0]\n",
    "])\n"
   ]
  },
  {
   "cell_type": "code",
   "execution_count": null,
   "metadata": {},
   "outputs": [],
   "source": [
    "\n",
    "def build_A_and_rhs(arr, east_neighbours:np.ndarray, axis):\n",
    "    \"\"\" Builds stack matricies for matrix equation (id - A) . X = rhs\n",
    "            -----------------------------------------------------------------------------------------\n",
    "            :   | id_lower   |     |    0       |       |           |           ...             |   :\n",
    "            : ( | id_upper   |  -  |    0       | ).dot(|   Flatten(| x_i, y_i, w_i, h_i, ar_i  |)  :  \n",
    "            :   | id_contact |     | A_contanct |       |           |           ...             |   :\n",
    "            :       | 0 if rect on lower boundary  |                                                :\n",
    "            :   ==  | 1 if rect on upper boundary  |                                                :\n",
    "            :       | 0                            |                                                :\n",
    "            -----------------------------------------------------------------------------------------\n",
    "        The above repre4sents set of equalities:\n",
    "            (id_lower)  :   for those on the left boundary\n",
    "                x_i == 0\n",
    "            (id_upper)  :   for those on the right boundary\n",
    "                x_j + w_j == 1\n",
    "            (id_contact):   for those rects which are upper neighbour of single contact e.g. index k\n",
    "            (A_contanct):   for those rects which are lower neighbour of single contact e.g. index i\n",
    "                x_k = x_i + w_i\n",
    "\n",
    "        \"\"\"\n",
    "    # n - number of rectangles\n",
    "    # m - number of contacts between rectangles \n",
    "    n, m = len(arr), np.sum(east_neighbours)\n",
    "    id_lower   = np.zeros(shape=(5*n, 5*n))\n",
    "    id_upper   = np.zeros(shape=(5*n, 5*n))\n",
    "    id_contact = np.zeros(shape=(m, 5*n))\n",
    "    zeros_of_A = np.zeros(shape=(5*n, 5*n))\n",
    "\n",
    "    A_contanct = np.zeros(shape=(m, 5*n))\n",
    "    rhs = np.zeros(shape=(2*(5*n) + m,))\n",
    "\n",
    "    # first fill id_lower and id_upper for representation of \n",
    "    # x_i == 0 and x_j + w_j == 1 respectively\n",
    "    for rect_num in range(n):\n",
    "        if np.sum(east_neighbours.T[rect_num]) == 0:\n",
    "            # rectangle is not an east neighbour of any other rectangle => it is on lower boundary\n",
    "            id_lower[5*rect_num, 5*rect_num + axis] = 1\n",
    "        if np.sum(east_neighbours[rect_num]) == 0:\n",
    "            # rectangle has no east neighbours => it is on upper boundary\n",
    "            id_upper[5*rect_num, 5*rect_num + axis], id_upper[5*rect_num, 5*rect_num + axis + 2] = 1, 1\n",
    "            rhs[(5*n) + 5*rect_num + axis] = 1\n",
    "    \n",
    "    # now for contacts:\n",
    "    for contact_num, (num_low_neighb, num_hig_neighb) in enumerate(zip(*np.where(east_neighbours > 0))):\n",
    "        id_contact[contact_num, 5*num_low_neighb + axis] = 1\n",
    "        A_contanct[contact_num, 5*num_hig_neighb + axis] = 1\n",
    "        A_contanct[contact_num, 5*num_hig_neighb + axis + 2] = 1\n",
    "    id_stack    = np.r_[id_lower,     id_upper, id_contact]\n",
    "    A_stack     = np.r_[zeros_of_A, zeros_of_A, A_contanct]\n",
    "    return id_stack, A_stack, rhs\n",
    "\n",
    "#sanity check:\n",
    "# id_X_stack, A_X_stack, X_rhs =  build_A_and_rhs(arr_with_hole, east_neighbours, 0)\n",
    "# id_Y_stack, A_Y_stack, Y_rhs =  build_A_and_rhs(arr_with_hole, north_neighbours, 1)\n",
    "# cont_A  = (id_X_stack-A_X_stack) + (id_Y_stack - A_Y_stack)\n",
    "# cont_rhs= X_rhs + Y_rhs"
   ]
  },
  {
   "cell_type": "code",
   "execution_count": 3,
   "metadata": {},
   "outputs": [],
   "source": [
    "id_X_stack, A_X_stack, X_rhs =  build_A_and_rhs(clinched_rectangles, east_neighbours, 0)\n",
    "id_Y_stack, A_Y_stack, Y_rhs =  build_A_and_rhs(clinched_rectangles, north_neighbours, 1)\n",
    "cont_A  = (id_X_stack-A_X_stack) + (id_Y_stack - A_Y_stack)\n",
    "cont_rhs= X_rhs + Y_rhs"
   ]
  },
  {
   "cell_type": "markdown",
   "metadata": {},
   "source": [
    "#### area constraint $\\sum\\limits_{i=1}^{n} \\left| R_i \\right| =1$\n"
   ]
  },
  {
   "cell_type": "code",
   "execution_count": 4,
   "metadata": {},
   "outputs": [],
   "source": [
    "# area sum constraint\n",
    "def build_A_for_area_sum(clinched_rectangles:np.ndarray):\n",
    "    tile = np.array([0, 0, 0, 0, 1])\n",
    "    vect = np.tile(tile, len(clinched_rectangles))\n",
    "    return vect\n",
    "A_for_area = build_A_for_area_sum(arr_with_hole)\n",
    "\n",
    "# A_for_area.dot(arr_with_hole.flatten())\n",
    "# A_for_area"
   ]
  },
  {
   "cell_type": "markdown",
   "metadata": {},
   "source": [
    "#### Nonlinear Constraints w_i * h_i = ar_i"
   ]
  },
  {
   "cell_type": "code",
   "execution_count": 5,
   "metadata": {},
   "outputs": [
    {
     "data": {
      "text/plain": [
       "array([0., 0., 0., 0.])"
      ]
     },
     "execution_count": 5,
     "metadata": {},
     "output_type": "execute_result"
    }
   ],
   "source": [
    "def fun_for_areas(arg: np.ndarray):\n",
    "    array_arg = arg.reshape(-1, 5)\n",
    "    widths, heights, areas = array_arg[:, 2], array_arg[:, 3], array_arg[:, 4]\n",
    "    return (widths * heights) - areas\n",
    "\n",
    "fun_for_areas(arr_with_hole.flatten())"
   ]
  },
  {
   "cell_type": "code",
   "execution_count": 37,
   "metadata": {},
   "outputs": [
    {
     "data": {
      "text/plain": [
       "0.27"
      ]
     },
     "execution_count": 37,
     "metadata": {},
     "output_type": "execute_result"
    }
   ],
   "source": []
  },
  {
   "cell_type": "markdown",
   "metadata": {},
   "source": [
    "#### Linear and non-linear Constraints from `scipy.optimize`"
   ]
  },
  {
   "cell_type": "code",
   "execution_count": 6,
   "metadata": {},
   "outputs": [],
   "source": [
    "# Arguments:\n",
    "\n",
    "# linear conctact constraint aguments\n",
    "id_X_stack, A_X_stack, X_rhs =  build_A_and_rhs(clinched_rectangles, east_neighbours, 0)\n",
    "id_Y_stack, A_Y_stack, Y_rhs =  build_A_and_rhs(clinched_rectangles, north_neighbours, 1)\n",
    "cont_A  = (id_X_stack-A_X_stack) + (id_Y_stack - A_Y_stack)\n",
    "cont_rhs= X_rhs + Y_rhs\n",
    "\n",
    "# linear area sum constraint\n",
    "A_for_area_sum = build_A_for_area_sum(clinched_rectangles)\n",
    "\n",
    "# nonlinear constraint width * height =  area\n",
    "rect_count = len(clinched_rectangles)\n",
    "non_lin_area_rhs = np.zeros(rect_count)"
   ]
  },
  {
   "cell_type": "code",
   "execution_count": 7,
   "metadata": {},
   "outputs": [],
   "source": [
    "from scipy.optimize import LinearConstraint\n",
    "from scipy.optimize import NonlinearConstraint\n",
    "\n",
    "contact_constr = LinearConstraint( A=cont_A, lb=cont_rhs, ub=cont_rhs)\n",
    "area____constr = LinearConstraint( A=A_for_area_sum, lb=1, ub=1)\n",
    "nl_area_constr = NonlinearConstraint(fun=fun_for_areas, lb=non_lin_area_rhs, ub=non_lin_area_rhs)\n",
    "cons = [contact_constr, area____constr, nl_area_constr]"
   ]
  },
  {
   "cell_type": "markdown",
   "metadata": {},
   "source": [
    "#### distance function"
   ]
  },
  {
   "cell_type": "code",
   "execution_count": 8,
   "metadata": {},
   "outputs": [
    {
     "data": {
      "text/plain": [
       "1.8214280112043957"
      ]
     },
     "execution_count": 8,
     "metadata": {},
     "output_type": "execute_result"
    }
   ],
   "source": [
    "from numpy import linalg as LA\n",
    "\n",
    "def dist_fun(arg:np.ndarray, rectangles:np.ndarray=clinched_rectangles):\n",
    "    arr = arg.reshape(-1,5)\n",
    "    dist = LA.norm(arr-rectangles)\n",
    "    return dist\n",
    "\n",
    "dist_fun(np.array([0,0,0,0,0,0,0,0,0,0,0,0,0,0,0,0,0,0,0,0]))"
   ]
  },
  {
   "cell_type": "markdown",
   "metadata": {},
   "source": [
    "#### `x0` the initial guess\n",
    "In order to fullfil complicated contact conditions we : \\\n",
    "1) Find rectangle such that it has (x,y) = (0,0) this rectacnge and therefore that row\\\n",
    "will become the row: `[0, 0, 1, 1, 1]`\n",
    "2) Rectangles on the most left (i.e. x=0) become: `[0, 1, 1, 0, 0]`\n",
    "3) Rectangles on the bottom (i.e. y = 0) become: `[1, 0, 0, 1, 0]`\n",
    "4) All other are squished to a point and become: `[1, 1, 0, 0, 0]`"
   ]
  },
  {
   "cell_type": "code",
   "execution_count": 9,
   "metadata": {},
   "outputs": [
    {
     "data": {
      "text/plain": [
       "array([[0., 0., 1., 1., 1.],\n",
       "       [0., 1., 1., 0., 0.],\n",
       "       [1., 1., 0., 0., 0.],\n",
       "       [1., 0., 0., 1., 0.]])"
      ]
     },
     "execution_count": 9,
     "metadata": {},
     "output_type": "execute_result"
    }
   ],
   "source": [
    "def contact_universal_x0(clinched_rectangles:np.ndarray):\n",
    "    x0=np.zeros(shape=clinched_rectangles.shape)\n",
    "    for num, row in enumerate(clinched_rectangles):\n",
    "        if np.isclose(row[0], 0) and np.isclose(row[1], 0):\n",
    "            x0[num] = np.array([0, 0, 1, 1, 1])\n",
    "            continue\n",
    "        elif np.isclose(row[0], 0) and (not np.isclose(row[1], 0)):\n",
    "            x0[num] = np.array([0, 1, 1, 0, 0])\n",
    "            continue\n",
    "        elif (not np.isclose(row[0], 0)) and np.isclose(row[1], 0):\n",
    "            x0[num] = np.array([1, 0, 0, 1, 0])\n",
    "            continue\n",
    "        else:\n",
    "            x0[num] = np.array([1, 1, 0, 0, 0])\n",
    "    return x0\n",
    "contact_universal_x0(clinched_rectangles)"
   ]
  },
  {
   "cell_type": "code",
   "execution_count": null,
   "metadata": {},
   "outputs": [],
   "source": [
    "# # one rectangle (0,1),(0,1) the rest is squished to the point (1,1)\n",
    "# def build_x0(clinched_rectangles:np.ndarray):\n",
    "#     x0 = np.zeros(shape=clinched_rectangles.shape)\n",
    "#     x0[0] = np.array([0,0,1,1,1])\n",
    "#     return x0.flatten()\n",
    "# # build_x0(arr_with_hole)\n",
    "# def x0_cross_ab(a:float, b:float):\n",
    "#     x0 = np.array([\n",
    "#         [0, 0, a, b,a * b],\n",
    "#         [a, 0, 1-a, b,(1-a)* b],\n",
    "#         [0, b, a, 1-b,a*(1-b)],\n",
    "#         [a, b, 1-a, 1-b,(1-a)*(1-b)],\n",
    "#     ])\n",
    "#     return x0.flatten()"
   ]
  },
  {
   "cell_type": "markdown",
   "metadata": {},
   "source": [
    "#### bounds"
   ]
  },
  {
   "cell_type": "code",
   "execution_count": 10,
   "metadata": {},
   "outputs": [],
   "source": [
    "def bounds_from_clinched(clinched_rectangles:np.ndarray):\n",
    "    n, m = clinched_rectangles.shape\n",
    "    lb = np.zeros(shape= n * 5)\n",
    "    ub = np.ones(shape= n * 5)\n",
    "    for num, row in enumerate(clinched_rectangles):\n",
    "        idx = 5 * num\n",
    "        if np.isclose(row[0], 0) and np.isclose(row[1], 0): \n",
    "            lb[idx], ub[idx], lb[idx+1], ub[idx+1] = 0, 0, 0, 0\n",
    "            continue # keep (0,0) corner\n",
    "        elif np.isclose(row[0], 0) and (not np.isclose(row[1], 0)):\n",
    "            lb[idx], ub[idx] = 0, 0 \n",
    "            continue # keep-left\n",
    "        elif (not np.isclose(row[0], 0)) and np.isclose(row[1], 0):\n",
    "            lb[idx+1], ub[idx+1] = 0, 0\n",
    "            continue # keep-bottom\n",
    "        else:\n",
    "            continue\n",
    "    return lb, ub\n",
    "        "
   ]
  },
  {
   "cell_type": "code",
   "execution_count": 11,
   "metadata": {},
   "outputs": [],
   "source": [
    "from scipy.optimize import Bounds\n",
    "lb, ub = bounds_from_clinched(clinched_rectangles)\n",
    "bounds = Bounds(lb=lb, ub=ub, keep_feasible=np.array([True]*20))"
   ]
  },
  {
   "cell_type": "markdown",
   "metadata": {},
   "source": [
    "#### New functions fo constraints"
   ]
  },
  {
   "cell_type": "code",
   "execution_count": 2,
   "metadata": {},
   "outputs": [],
   "source": [
    "from scipy.optimize import LinearConstraint\n",
    "from scipy.optimize import NonlinearConstraint\n",
    "from SquareDivision.optimization.constraints import (\n",
    "    low_boundary_constraint_args,\n",
    "    high_boundary_constraint_args,\n",
    "    contact_constraint_args,\n",
    "    area_constraint_fun\n",
    ")\n",
    "from SquareDivision.optimization.objective_function import (\n",
    "    dist_fun\n",
    ")\n",
    "from SquareDivision.optimization.initial_guess import (\n",
    "    contact_universal_x0\n",
    ")"
   ]
  },
  {
   "cell_type": "code",
   "execution_count": 5,
   "metadata": {},
   "outputs": [],
   "source": [
    "clinched_rectangles = clinched_rectangles[:,:4]\n",
    "low__X_A, low__X_rhs = low_boundary_constraint_args(clinched_rectangles, east_neighbours, axis=0)\n",
    "low__Y_A, low__Y_rhs = low_boundary_constraint_args(clinched_rectangles, north_neighbours, axis=1)\n",
    "high_X_A, high_X_rhs = high_boundary_constraint_args(clinched_rectangles, east_neighbours, axis=0)\n",
    "high_Y_A, high_Y_rhs = high_boundary_constraint_args(clinched_rectangles, north_neighbours, axis=1)\n",
    "low__X_constr = LinearConstraint( A=low__X_A, lb=low__X_rhs, ub=low__X_rhs)\n",
    "low__Y_constr = LinearConstraint( A=low__Y_A, lb=low__Y_rhs, ub=low__Y_rhs)\n",
    "high_X_constr = LinearConstraint( A=high_X_A, lb=high_X_rhs, ub=high_X_rhs)\n",
    "high_Y_constr = LinearConstraint( A=high_Y_A, lb=high_Y_rhs, ub=high_Y_rhs)\n",
    "\n",
    "cont_X_A, cont_X_rhs = contact_constraint_args(clinched_rectangles, east_neighbours, axis=0)\n",
    "cont_Y_A, cont_Y_rhs = contact_constraint_args(clinched_rectangles, north_neighbours, axis=1)\n",
    "horizontal_contacts = LinearConstraint( A=cont_X_A, lb=cont_X_rhs, ub=cont_X_rhs)\n",
    "vertical___contacts = LinearConstraint( A=cont_Y_A, lb=cont_Y_rhs, ub=cont_Y_rhs)\n",
    "\n",
    "area_constr = NonlinearConstraint(fun=area_constraint_fun, lb=0, ub=0)\n",
    "constraints = [\n",
    "    low__X_constr, low__Y_constr,\n",
    "    high_X_constr, high_Y_constr,\n",
    "    horizontal_contacts,\n",
    "    vertical___contacts,\n",
    "    area_constr]\n",
    "\n",
    "x0 = contact_universal_x0(clinched_rectangles=clinched_rectangles).flatten()"
   ]
  },
  {
   "cell_type": "code",
   "execution_count": 7,
   "metadata": {},
   "outputs": [
    {
     "name": "stderr",
     "output_type": "stream",
     "text": [
      "d:\\Users\\jg255\\anaconda3\\envs\\ray310\\lib\\site-packages\\scipy\\optimize\\_trustregion_constr\\projections.py:181: UserWarning: Singular Jacobian matrix. Using SVD decomposition to perform the factorizations.\n",
      "  warn('Singular Jacobian matrix. Using SVD decomposition to ' +\n"
     ]
    }
   ],
   "source": [
    "from scipy.optimize import minimize\n",
    "# x0 = build_x0(arr_with_hole)\n",
    "# x0 = x0_cross_ab(0.2,0.3)\n",
    "# x0 = contact_universal_x0(clinched_rectangles).flatten()\n",
    "sol = minimize(dist_fun, x0, args=(clinched_rectangles), method='trust-constr', constraints=constraints)#, bounds=bounds)"
   ]
  },
  {
   "cell_type": "code",
   "execution_count": 21,
   "metadata": {},
   "outputs": [
    {
     "data": {
      "text/plain": [
       "array([[0., 0., 1., 1.],\n",
       "       [0., 1., 1., 0.],\n",
       "       [1., 1., 0., 0.],\n",
       "       [1., 0., 0., 1.]])"
      ]
     },
     "execution_count": 21,
     "metadata": {},
     "output_type": "execute_result"
    }
   ],
   "source": [
    "sol.x.reshape(-1,4)"
   ]
  },
  {
   "cell_type": "code",
   "execution_count": 10,
   "metadata": {},
   "outputs": [
    {
     "data": {
      "image/png": "[encoded data removed]",
      "text/plain": [
       "<Figure size 600x600 with 1 Axes>"
      ]
     },
     "metadata": {},
     "output_type": "display_data"
    }
   ],
   "source": [
    "# FIX DRAWING FOR (-1,4) shape\n",
    "rects_sol = sol.x.reshape(-1,4)\n",
    "fig, ax = plt.subplots(figsize=(6, 6))\n",
    "ax = draw_rectangles(ax, np.c_[rects_sol,np.array([0,0,0,0])])\n",
    "# ax = draw_rectangles(ax, clinched_rectangles)\n",
    "plt.show()"
   ]
  },
  {
   "cell_type": "code",
   "execution_count": 14,
   "metadata": {},
   "outputs": [
    {
     "data": {
      "text/plain": [
       "1.753567791675018"
      ]
     },
     "execution_count": 14,
     "metadata": {},
     "output_type": "execute_result"
    }
   ],
   "source": [
    "dist_fun(rects_sol, clinched_rectangles)"
   ]
  },
  {
   "cell_type": "code",
   "execution_count": 18,
   "metadata": {},
   "outputs": [],
   "source": [
    "guess = np.array(\n",
    "    [[0.  , 0. , 0.4 , 0.5],\n",
    "     [0.  , 0.5, 0.6 , 0.4],\n",
    "     [0.6 , 0.5, 0.4 , 0.5],\n",
    "     [0.4 , 0. , 0.6 , 0.5]])"
   ]
  },
  {
   "cell_type": "code",
   "execution_count": 19,
   "metadata": {},
   "outputs": [
    {
     "data": {
      "text/plain": [
       "0.12247448713915894"
      ]
     },
     "execution_count": 19,
     "metadata": {},
     "output_type": "execute_result"
    }
   ],
   "source": [
    "dist_fun(guess,clinched_rectangles)"
   ]
  }
 ],
 "metadata": {
  "kernelspec": {
   "display_name": "ray310",
   "language": "python",
   "name": "python3"
  },
  "language_info": {
   "codemirror_mode": {
    "name": "ipython",
    "version": 3
   },
   "file_extension": ".py",
   "mimetype": "text/x-python",
   "name": "python",
   "nbconvert_exporter": "python",
   "pygments_lexer": "ipython3",
   "version": "3.10.12"
  }
 },
 "nbformat": 4,
 "nbformat_minor": 2
}
